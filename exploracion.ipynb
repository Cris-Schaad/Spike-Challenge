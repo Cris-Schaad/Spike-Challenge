{
 "cells": [
  {
   "cell_type": "code",
   "execution_count": null,
   "metadata": {
    "collapsed": true
   },
   "outputs": [],
   "source": [
    "import numpy as np\n",
    "import pandas as pd\n",
    "import matplotlib.pyplot as plt\n",
    "import funciones"
   ]
  },
  {
   "cell_type": "code",
   "execution_count": null,
   "metadata": {
    "collapsed": true
   },
   "outputs": [],
   "source": [
    "dataset = pd.read_csv('caudal_extra.csv', usecols=[4,11,12,15,16], header=0)\n",
    "dataset = dataset.sort_values(by=['nombre', 'fecha'])"
   ]
  },
  {
   "cell_type": "code",
   "execution_count": null,
   "metadata": {
    "collapsed": true
   },
   "outputs": [],
   "source": [
    "dataset['Verano'] = pd.Series(np.zeros(len(dataset)))\n",
    "dataset['Otoño'] = pd.Series(np.zeros(len(dataset)))\n",
    "dataset['Invierno'] = pd.Series(np.zeros(len(dataset)))\n",
    "dataset['Primavera'] = pd.Series(np.zeros(len(dataset)))\n",
    "\n",
    "meses = pd.to_datetime(dataset['fecha']).dt.month.values\n",
    "dataset.loc[dataset.index, 'Verano'] = np.logical_and(meses >= 1, meses <= 3).astype(int)\n",
    "dataset.loc[dataset.index, 'Otoño'] = np.logical_and(meses >= 4, meses <= 6).astype(int)\n",
    "dataset.loc[dataset.index, 'Invierno'] = np.logical_and(meses >= 7, meses <= 9).astype(int)\n",
    "dataset.loc[dataset.index, 'Primavera'] = np.logical_and(meses >= 10, meses <= 12).astype(int)"
   ]
  },
  {
   "cell_type": "code",
   "execution_count": null,
   "metadata": {
    "collapsed": true
   },
   "outputs": [],
   "source": [
    "dataset['caudal_extremo'] = pd.Series(np.zeros(len(dataset)))\n",
    "dataset['precip_extremo'] = pd.Series(np.zeros(len(dataset)))\n",
    "dataset['temp_extremo'] = pd.Series(np.zeros(len(dataset)))"
   ]
  },
  {
   "cell_type": "code",
   "execution_count": null,
   "metadata": {
    "collapsed": true
   },
   "outputs": [],
   "source": [
    "for i in dataset.nombre.unique():\n",
    "       datos_estacion = dataset[dataset['nombre'] == i]\n",
    "       for est in ['Verano', 'Otoño', 'Invierno', 'Primavera']:\n",
    "           datos = datos_estacion[datos_estacion[est]==1]\n",
    "           dataset.loc[datos.index, 'caudal_extremo'] = funciones.evento_extremo(datos['caudal'].values)\n",
    "           dataset.loc[datos.index, 'precip_extremo'] = funciones.evento_extremo(datos['precip_promedio'].values)\n",
    "           dataset.loc[datos.index, 'temp_extremo'] = funciones.evento_extremo(datos['temp_max_promedio'].values)"
   ]
  },
  {
   "cell_type": "code",
   "execution_count": null,
   "metadata": {
    "collapsed": true
   },
   "outputs": [],
   "source": []
  }
 ],
 "metadata": {
  "kernelspec": {
   "display_name": "Python 3",
   "language": "python",
   "name": "python3"
  }
 },
 "nbformat": 4,
 "nbformat_minor": 2
}
