{
 "cells": [
  {
   "cell_type": "code",
   "execution_count": null,
   "metadata": {
    "collapsed": true
   },
   "outputs": [],
   "source": [
    "#Creacion de dataset para entrenar\n",
    "x_data = []\n",
    "y_data = []\n",
    "nombres = []\n",
    "x_data_columnas = ['caudal','precip_promedio','temp_max_promedio','Dia']\n",
    "y_data_columnas = ['caudal_extremo']\n",
    "\n",
    "\n",
    "#Creación de dataset para red neuronal en formato .npz\n",
    "for i in dataset.nombre.unique():\n",
    "    datos_estacion = dataset[dataset['nombre'] == i]    \n",
    "    nombres.append(i)\n",
    "    x_data.append(datos_estacion[x_data_columnas].values)\n",
    "    y_data.append(datos_estacion[y_data_columnas].values)    \n",
    "\n",
    "x_data = np.asarray(x_data)   \n",
    "y_data = np.asarray(y_data)   \n",
    "\n",
    "#Division de dataset\n",
    "x_train, x_test, y_train, y_test = train_test_split(x_data, y_data, test_size=0.2)\n",
    "x_train, x_valid, y_train, y_valid = train_test_split(x_train, y_train, test_size=0.2)\n",
    "\n",
    "#Formateo de datos\n",
    "ventana_de_tiempo = 24\n",
    "espacio_de_tiempo = 24\n",
    "\n",
    "x_train, y_train = funciones.sampling_temporal(x_train, y_train, ventana_de_tiempo, espacio_de_tiempo, flatten_data=False)\n",
    "x_valid, y_valid = funciones.sampling_temporal(x_valid, y_valid, ventana_de_tiempo, espacio_de_tiempo, flatten_data=False)    \n",
    "x_test, y_test = funciones.sampling_temporal(x_test, y_test, ventana_de_tiempo, espacio_de_tiempo,  flatten_data=False)    \n",
    "\n",
    "x_train = np.concatenate(x_train)\n",
    "x_valid = np.concatenate(x_valid)\n",
    "x_test = np.concatenate(x_test)\n",
    "\n",
    "y_train = np.concatenate(y_train).flatten()\n",
    "y_valid = np.concatenate(y_valid).flatten()\n",
    "y_test = np.concatenate(y_test).flatten()\n",
    "\n",
    "\n",
    "#Escalado de datos\n",
    "sc_x =  MinMaxScaler(feature_range=(0,1))\n",
    "for i in range(x_train.shape[-1]):\n",
    "    sc_x.fit_transform(x_train[:,:,i])\n",
    "    x_train[:,:,i]= sc_x.transform(x_train[:,:,i])\n",
    "    x_valid[:,:,i] = sc_x.transform(x_valid[:,:,i])\n",
    "    x_test[:,:,i] = sc_x.transform(x_test[:,:,i])\n",
    "\n",
    "\n",
    "#Guardado\n",
    "np.savez(os.path.join(datadir, 'caudal_extra.npz'),\n",
    "         x_train = x_train,\n",
    "         x_valid = x_valid,\n",
    "         x_test = x_test,\n",
    "         y_train = y_train,\n",
    "         y_valid = y_valid,\n",
    "         y_test = y_test)"
   ]
  }
 ],
 "metadata": {
  "kernelspec": {
   "display_name": "Python 3",
   "language": "python",
   "name": "python3"
  }
 },
 "nbformat": 4,
 "nbformat_minor": 2
}
