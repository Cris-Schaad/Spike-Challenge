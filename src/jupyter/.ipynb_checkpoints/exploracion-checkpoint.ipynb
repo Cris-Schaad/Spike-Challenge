{
 "cells": [
  {
   "cell_type": "code",
   "execution_count": null,
   "metadata": {},
   "outputs": [
    {
     "name": "stdout",
     "output_type": "stream",
     "text": [
      "Cantidad total de mediciones:  1411180\n",
      "Cantidad de estaciones de medicion distintas:  133\n",
      "\n",
      "Minimma cantidad de datos registrados en una estación:  802\n",
      "Máxima cantidad de datos registrados en una estación:  20706\n"
     ]
    },
    {
     "name": "stderr",
     "output_type": "stream",
     "text": [
      "C:\\Users\\crist\\Anaconda3\\envs\\tensorflow1\\lib\\site-packages\\ipykernel_launcher.py:30: DeprecationWarning: parsing timezone aware datetimes is deprecated; this will raise an error in the future\n"
     ]
    },
    {
     "data": {
      "image/png": "[encoded data removed]",
      "text/plain": [
       "<Figure size 432x288 with 1 Axes>"
      ]
     },
     "metadata": {
      "needs_background": "light"
     },
     "output_type": "display_data"
    },
    {
     "name": "stderr",
     "output_type": "stream",
     "text": [
      "C:\\Users\\crist\\Anaconda3\\envs\\tensorflow1\\lib\\site-packages\\ipykernel_launcher.py:43: DeprecationWarning: parsing timezone aware datetimes is deprecated; this will raise an error in the future\n"
     ]
    }
   ],
   "source": [
    "import import_ipynb\n",
    "import os, funciones\n",
    "from pathlib import Path\n",
    "import numpy as np\n",
    "import matplotlib.pyplot as plt\n",
    "import pandas as pd\n",
    "\n",
    "plt.close('all')\n",
    "\n",
    "\n",
    "#Importación de dataset\n",
    "datadir = os.path.join(Path(os.getcwd()).parent.parent, 'data')\n",
    "dataset = pd.read_csv(os.path.join(datadir, 'caudal_extra.csv'), usecols=[4,11,12,15,16], header=0)\n",
    "dataset = dataset.sort_values(by=['nombre', 'fecha'])\n",
    "\n",
    "print('Cantidad total de mediciones: ', dataset.shape[0])\n",
    "print('Cantidad de estaciones de medicion distintas: ', len(dataset.nombre.unique()))\n",
    "\n",
    "\n",
    "#Analisis de mediciones por estación\n",
    "cantiadad_mediciones = []\n",
    "for i in dataset.nombre.unique():\n",
    "    cantiadad_mediciones.append(dataset[dataset['nombre'] == i].shape[0])\n",
    "        \n",
    "print('\\nMinimma cantidad de datos registrados en una estación: ', np.min(cantiadad_mediciones))\n",
    "print('Máxima cantidad de datos registrados en una estación: ', np.max(cantiadad_mediciones))\n",
    "\n",
    "\n",
    "#Analisis de mediciones por año\n",
    "fechas_year = dataset.fecha.values.astype('datetime64[Y]')\n",
    "\n",
    "plt.figure()\n",
    "plt.hist(fechas_year, bins=59)\n",
    "plt.xlabel('Año')\n",
    "plt.ylabel('Cantidad de mediciones')\n",
    "plt.title('Cantidad de mediciones de caudal por año')\n",
    "plt.show()\n",
    "\n",
    "\n",
    "#Analisis de mediciones dias entre mediciones\n",
    "dias_entre_mediciones = []\n",
    "for i in dataset.nombre.unique():\n",
    "    fechas_estacion = dataset[dataset['nombre']==i].fecha.values.astype('datetime64[D]')\n",
    "    dias_entre_mediciones = dias_entre_mediciones + list(np.diff(fechas_estacion).astype(int))\n",
    "dias_entre_mediciones = np.asarray(dias_entre_mediciones)\n",
    "print('\\nDatos con intervalo de 1 dia: ', len(np.where(dias_entre_mediciones==1)[0]), ' ', len(np.where(dias_entre_mediciones==1)[0])/len(dias_entre_mediciones))\n",
    "print('Datos con intervalo mayor a 1 dia: ', len(np.where(dias_entre_mediciones>1)[0]), ' ', len(np.where(dias_entre_mediciones>1)[0])/len(dias_entre_mediciones))\n",
    "\n",
    "\n",
    "#Analisis de datos faltantes\n",
    "print('\\nDatos faltantes de caudal: ', dataset.caudal.isna().sum())\n",
    "print('Datos faltantes de precipitaciones: ', dataset.precip_promedio.isna().sum())\n",
    "print('Datos faltantes de temperatura máxima: ', dataset.temp_max_promedio.isna().sum())\n",
    "\n",
    "\n",
    "#Analisis fechas de datos faltantes\n",
    "fechas_preci_faltantes = dataset[dataset['precip_promedio'].isna()].fecha.values.astype('datetime64[Y]')\n",
    "fechas_temps_faltantes = dataset[dataset['temp_max_promedio'].isna()].fecha.values.astype('datetime64[Y]')\n",
    "\n",
    "plt.figure()\n",
    "plt.hist(fechas_temps_faltantes, 50, alpha=0.75, facecolor='r')\n",
    "plt.hist(fechas_preci_faltantes, 50, alpha=0.75, facecolor='b')\n",
    "plt.legend(['Temperatura máxima promedio', 'Precipitación promedio'])\n",
    "plt.xlabel('Año')\n",
    "plt.ylabel('Cantidad de datos faltantes')\n",
    "plt.title('Distribución de datos faltantes')\n",
    "plt.show()\n",
    "\n",
    "\n",
    "#Gráficos pedidos parte 2\n",
    "estacion_1 = 7355002    #Rio Ancoa En El Morro\n",
    "estacion_2 = 2104002    #Rio Loa En Salida Embalse Conchi\n",
    "funciones.time_plot_una_estacion(estacion_1, 'temp_max_promedio', '2000-01-01', '2005-01-01')\n",
    "funciones.time_plot_estaciones_varias_columnas(estacion_2, ['caudal','precip_promedio','temp_max_promedio'], '2010-01-01', '2015-01-01')\n",
    "\n",
    "\n",
    "#Aginación de estacion del año a registros\n",
    "dataset = funciones.estacionalidad_y_eventos_extremos(dataset)\n",
    "\n",
    "\n",
    "#Gráficos eventos extremos\n",
    "funciones.plot_eventos_extremos_historicos('Rio Turbio En Varillar', dataset, 'Caudal')\n",
    "funciones.plot_eventos_extremos_historicos('Rio Turbio En Varillar', dataset, 'Precipitación promedio')\n",
    "funciones.plot_eventos_extremos_historicos('Rio Turbio En Varillar', dataset, 'Temperatura máxima promedio')\n",
    "\n",
    "\n",
    "#Gráficos caudales extremos\n",
    "funciones.plot_eventos_extremos_historicos('Rio Loa En Salida Embalse Conchi', dataset, 'Caudal')\n",
    "funciones.plot_eventos_extremos_historicos('Rio Aconcagua En San Felipe', dataset, 'Caudal')\n",
    "funciones.plot_eventos_extremos_historicos('Rio Aysen En Puerto Aysen', dataset, 'Caudal')\n",
    "\n",
    "\n",
    "#Gráficos proporciond eventos extremos\n",
    "funciones.plot_eventos_acumulados(dataset[['fecha','caudal_extremo']])\n",
    "funciones.plot_eventos_acumulados(dataset[['fecha','precip_extremo']])\n",
    "funciones.plot_eventos_acumulados(dataset[['fecha','temp_extremo']])"
   ]
  }
 ],
 "metadata": {
  "kernelspec": {
   "display_name": "Python 3",
   "language": "python",
   "name": "python3"
  },
  "language_info": {
   "codemirror_mode": {
    "name": "ipython",
    "version": 3
   },
   "file_extension": ".py",
   "mimetype": "text/x-python",
   "name": "python",
   "nbconvert_exporter": "python",
   "pygments_lexer": "ipython3",
   "version": "3.6.5"
  }
 },
 "nbformat": 4,
 "nbformat_minor": 2
}
