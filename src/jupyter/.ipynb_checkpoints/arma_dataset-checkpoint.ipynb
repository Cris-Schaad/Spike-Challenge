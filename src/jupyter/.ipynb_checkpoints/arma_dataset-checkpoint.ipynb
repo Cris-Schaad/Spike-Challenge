{
 "cells": [
  {
   "cell_type": "code",
   "execution_count": 3,
   "metadata": {},
   "outputs": [
    {
     "name": "stdout",
     "output_type": "stream",
     "text": [
      "importing Jupyter notebook from funciones.ipynb\n"
     ]
    },
    {
     "name": "stderr",
     "output_type": "stream",
     "text": [
      "C:\\Users\\crist\\Anaconda3\\envs\\tensorflow1\\lib\\site-packages\\numpy\\core\\fromnumeric.py:2920: RuntimeWarning: Mean of empty slice.\n",
      "  out=out, **kwargs)\n",
      "C:\\Users\\crist\\Anaconda3\\envs\\tensorflow1\\lib\\site-packages\\numpy\\core\\_methods.py:85: RuntimeWarning: invalid value encountered in double_scalars\n",
      "  ret = ret.dtype.type(ret / rcount)\n",
      "C:\\Users\\crist\\Anaconda3\\envs\\tensorflow1\\lib\\site-packages\\numpy\\core\\_methods.py:140: RuntimeWarning: Degrees of freedom <= 0 for slice\n",
      "  keepdims=keepdims)\n",
      "C:\\Users\\crist\\Anaconda3\\envs\\tensorflow1\\lib\\site-packages\\numpy\\core\\_methods.py:110: RuntimeWarning: invalid value encountered in true_divide\n",
      "  arrmean, rcount, out=arrmean, casting='unsafe', subok=False)\n",
      "C:\\Users\\crist\\Anaconda3\\envs\\tensorflow1\\lib\\site-packages\\numpy\\core\\_methods.py:132: RuntimeWarning: invalid value encountered in double_scalars\n",
      "  ret = ret.dtype.type(ret / rcount)\n",
      "funciones.ipynb:115: RuntimeWarning: invalid value encountered in true_divide\n",
      "  \"    array con labels para cada elemento del array x\\n\",\n",
      "funciones.ipynb:118: RuntimeWarning: invalid value encountered in greater_equal\n",
      "  \"    x_sin_nan = x[~nan_index]    \\n\",\n",
      "funciones.ipynb:118: RuntimeWarning: invalid value encountered in less_equal\n",
      "  \"    x_sin_nan = x[~nan_index]    \\n\",\n"
     ]
    }
   ],
   "source": [
    "import numpy as np\n",
    "import pandas as pd\n",
    "import import_ipynb\n",
    "import os, funciones\n",
    "from pathlib import Path\n",
    "from sklearn.model_selection import train_test_split\n",
    "from sklearn.preprocessing import MinMaxScaler\n",
    "\n",
    "\n",
    "#Importación de dataset\n",
    "datadir = os.path.join(Path(os.getcwd()).parent.parent, 'data')\n",
    "dataset = pd.read_csv(os.path.join(datadir, 'caudal_extra.csv'), usecols=[4,11,12,15,16], header=0)\n",
    "dataset = dataset.sort_values(by=['nombre', 'fecha'])\n",
    "\n",
    "#Aginación de estacion del año a registros\n",
    "dataset = funciones.estacionalidad_y_eventos_extremos(dataset)\n",
    "\n",
    "#Creacion de dataset para entrenar\n",
    "x_data = []\n",
    "y_data = []\n",
    "nombres = []\n",
    "x_data_columnas = ['caudal','precip_promedio','temp_max_promedio','Dia']\n",
    "y_data_columnas = ['caudal_extremo']\n",
    "\n",
    "\n",
    "#Creación de dataset para red neuronal en formato .npz\n",
    "for i in dataset.nombre.unique():\n",
    "    datos_estacion = dataset[dataset['nombre'] == i]    \n",
    "    nombres.append(i)\n",
    "    x_data.append(datos_estacion[x_data_columnas].values)\n",
    "    y_data.append(datos_estacion[y_data_columnas].values)    \n",
    "\n",
    "x_data = np.asarray(x_data)   \n",
    "y_data = np.asarray(y_data)   \n",
    "\n",
    "#Division de dataset\n",
    "x_train, x_test, y_train, y_test = train_test_split(x_data, y_data, test_size=0.2)\n",
    "x_train, x_valid, y_train, y_valid = train_test_split(x_train, y_train, test_size=0.2)\n",
    "\n",
    "#Formateo de datos\n",
    "ventana_de_tiempo = 24\n",
    "espacio_de_tiempo = 24\n",
    "\n",
    "x_train, y_train = funciones.sampling_temporal(x_train, y_train, ventana_de_tiempo, espacio_de_tiempo, flatten_data=False)\n",
    "x_valid, y_valid = funciones.sampling_temporal(x_valid, y_valid, ventana_de_tiempo, espacio_de_tiempo, flatten_data=False)    \n",
    "x_test, y_test = funciones.sampling_temporal(x_test, y_test, ventana_de_tiempo, espacio_de_tiempo,  flatten_data=False)    \n",
    "\n",
    "x_train = np.concatenate(x_train)\n",
    "x_valid = np.concatenate(x_valid)\n",
    "x_test = np.concatenate(x_test)\n",
    "\n",
    "y_train = np.concatenate(y_train).flatten()\n",
    "y_valid = np.concatenate(y_valid).flatten()\n",
    "y_test = np.concatenate(y_test).flatten()\n",
    "\n",
    "\n",
    "#Escalado de datos\n",
    "sc_x =  MinMaxScaler(feature_range=(0,1))\n",
    "for i in range(x_train.shape[-1]):\n",
    "    sc_x.fit_transform(x_train[:,:,i])\n",
    "    x_train[:,:,i]= sc_x.transform(x_train[:,:,i])\n",
    "    x_valid[:,:,i] = sc_x.transform(x_valid[:,:,i])\n",
    "    x_test[:,:,i] = sc_x.transform(x_test[:,:,i])\n",
    "\n",
    "\n",
    "#Guardado\n",
    "np.savez(os.path.join(datadir, 'caudal_extra.npz'),\n",
    "         x_train = x_train,\n",
    "         x_valid = x_valid,\n",
    "         x_test = x_test,\n",
    "         y_train = y_train,\n",
    "         y_valid = y_valid,\n",
    "         y_test = y_test)"
   ]
  },
  {
   "cell_type": "code",
   "execution_count": null,
   "metadata": {},
   "outputs": [],
   "source": []
  }
 ],
 "metadata": {
  "kernelspec": {
   "display_name": "Python 3",
   "language": "python",
   "name": "python3"
  },
  "language_info": {
   "codemirror_mode": {
    "name": "ipython",
    "version": 3
   },
   "file_extension": ".py",
   "mimetype": "text/x-python",
   "name": "python",
   "nbconvert_exporter": "python",
   "pygments_lexer": "ipython3",
   "version": "3.6.5"
  }
 },
 "nbformat": 4,
 "nbformat_minor": 2
}
